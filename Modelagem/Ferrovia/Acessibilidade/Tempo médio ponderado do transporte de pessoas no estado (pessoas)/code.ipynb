{
 "cells": [
  {
   "cell_type": "code",
   "execution_count": null,
   "id": "37084d83",
   "metadata": {},
   "outputs": [],
   "source": [
    "# PROJETO EXCALIDRAW\n",
    "# \n",
    "# https://excalidraw.com/#room=632382fc20b6164ae008,cX3ULtewpWHYUYU0tkRGSQ"
   ]
  },
  {
   "cell_type": "code",
   "execution_count": null,
   "id": "88bb4d14",
   "metadata": {},
   "outputs": [],
   "source": [
    "# DADOS ABERTOS - ANTT\n",
    "# \n",
    "# https://dados.antt.gov.br/organization/agencia-nacional-de-transportes-terrestres-antt?q=ferrovia&sort=score+desc%2C+metadata_modified+desc"
   ]
  }
 ],
 "metadata": {
  "language_info": {
   "name": "python"
  }
 },
 "nbformat": 4,
 "nbformat_minor": 5
}
