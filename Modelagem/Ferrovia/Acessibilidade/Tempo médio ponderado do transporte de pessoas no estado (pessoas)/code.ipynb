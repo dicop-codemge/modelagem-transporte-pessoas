{
 "cells": [
  {
   "cell_type": "code",
   "execution_count": null,
   "id": "37084d83",
   "metadata": {},
   "outputs": [],
   "source": [
    "# https://excalidraw.com/#room=632382fc20b6164ae008,cX3ULtewpWHYUYU0tkRGSQ"
   ]
  }
 ],
 "metadata": {
  "language_info": {
   "name": "python"
  }
 },
 "nbformat": 4,
 "nbformat_minor": 5
}
